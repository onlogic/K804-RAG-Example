{
 "cells": [
  {
   "cell_type": "markdown",
   "id": "302f1cf7-ce2c-4383-af28-70d592763f35",
   "metadata": {},
   "source": [
    "# Local LLM Example w/ RAG on OnLogic K800"
   ]
  },
  {
   "cell_type": "markdown",
   "id": "3d7a4431-7437-479c-8c96-82f0e3a6e083",
   "metadata": {},
   "source": [
    "This notebook shows an example pipeline for locally running an LLM with RAG integration, using Ollama and LangChain. \n",
    "\n",
    "Ollama is a user friendlly, free, and open-source tool for local LLM execution. For this example, we pull 2 models from Ollama:\n",
    "* Llama3.1:8b-instruct-fp16 - This is the general purpose model that the pipeline is built from. It works well on its own, but implementing a RAG allows for more control over responses and ensures the model adheres to reliable data sources. \n",
    "* nomic-embed-text - This is an Ollama supported text embedding model (137M parameters) that allows the pipeline to pull relevant context sources from the context database based on their similarity with the prompt.\n",
    "\n",
    "To get started with Ollama, visit their website and download the app for your device .\n",
    "After installing, run:\n",
    "\n",
    "`ollama pull llama3.1:8b-instruct-fp16`\n",
    "\n",
    "`ollama pull nomic-embed-text`\n",
    "\n",
    "to download and prepare the models for local execution. Ollama has a wide catalog of llms of different sizes and specialties, so browse to find one that matches your usecase and hardware.  \n",
    "\n",
    "Getting the models running is as easy as running\n",
    "\n",
    "`ollama start llama3.1:8b`\n",
    "\n",
    "Which allows you to chat with the LLM through the command line. Run `ollama ps` to see the models you have currently loaded in memory and `ollama list` to see your list of locally downloaded models. \n",
    "\n",
    "Langchain is the second tool used for this example, which is used to define the overall RAG pipeline. We first create an embeddings database using LangChain Chroma to store the embeddings for each context document, and then define a chain which collects the most relevent documents and provides them to the llama model which in turn responds to the question. This is a super simple example of the types of chains that LangChain supports, which can be much more complex and customizable, allowing for things like web search and model self-correction. \n",
    "\n",
    "\n",
    "All of the LangChain libraries used here can be installed by: \n",
    "\n",
    "`pip install langchain langchain_community`\n",
    "\n",
    "`pip install -qU langchain_chroma`\n",
    "\n",
    "`pip install -qU langchain_ollama`\n",
    "\n",
    "`pip install -qU langchain_unstructured`\n",
    "\n",
    "This notebook was run locally on an OnLogic K804 with one 20GB Nvidia A4000 GPU. "
   ]
  },
  {
   "cell_type": "markdown",
   "id": "0cdbec6a-9394-4aa6-afdd-9fdb28a2e427",
   "metadata": {},
   "source": [
    "This example script will walk through the creation of a simple chat bot for giving technical support for a couple of onlogic pcs. To do this, we need to provide it context from which it will create its answers. To do this, we'll pull a collection of product manuals from onlogic.com, and let langchain and ollama convert them into embeddings, which allows the RAG to gain some semantic meaning of the content in each document. To do this, we'll use langchain's unstructured library to parse the documents and separate them into sections. This requires some additional installation, starting with \n",
    "\n",
    "`pip install -qU \"unstructured[pdf]\"`\n",
    "\n",
    "When parsing pdfs locally, the unstructured library also requires some additional dependencies, Tessaract and Poppler. \n",
    "\n",
    "You can also do pdf parsing through the free unstructured API, which requires an API key. "
   ]
  },
  {
   "cell_type": "code",
   "execution_count": 12,
   "id": "2cbdbeb2-d7b7-466d-9fd0-aa64df9de8d6",
   "metadata": {},
   "outputs": [
    {
     "name": "stdout",
     "output_type": "stream",
     "text": [
      "Total number of documents: 290\n"
     ]
    },
    {
     "data": {
      "text/plain": [
       "Document(metadata={'source': 'product_manuals\\\\OnLogic-FR201-Product-Manual.pdf', 'file_directory': 'product_manuals', 'filename': 'OnLogic-FR201-Product-Manual.pdf', 'last_modified': '2024-12-04T12:09:29', 'page_number': 1, 'orig_elements': 'eJzlmMtu3DYUhl+F0DpUeb9k17Rxm6JpjNhZ2YFB8WILmJEGksaXBn33HlEyMLGnwHShRdXNAD/1c0Tx4yHP4dW3Im7iNjbDTR2Kt6iwXlAracKJmoCFFA7bECimleZGGcpSlMUbVGzj4IIbHPT5Vvi27ULduCH2WW/cU7sfbu5ifXs3QIsRDLrMrQ91GO6gUVoFjbu2boax19WVZiV5g6jUpf36Bj1LwyfJmSj1EZ3t0FD0T/0Qt+M3nNePcXOxcz4Wf8GDVG/iTai76Ie2exoNu64Nez/cbF2zd5u+mE2N28bx8afm9/a29vjsMyMUn09m/DGby11IRf6Y5nbvbvMHXxWxuS2+5tYe/rUNdapjnk5GmMCUYSIuKXtL7Ftmx9476HnT7LdV7MBFx1EO8XGcqiK/FM0vRdNLxy7D0y4P7rIeNvm7XpITgXteEY+VNAoLQT02ljNstQpVoLFiRi1KTutSHYAjfJJMqlK91tn93+bGDrl9jvd1X7cN+rXu83hPYRYsI4IojXmlPRZcMuxEkPAjmU6iCpKbpZjpEmyUm9JkaJMUs6TClvSIzvb/OzVNiLaV8ZjHRLCgzmIjtcAheM9plMwtTU2xkh5Q07NklBzV2b4iamd11w+oAyquj6hNaNo0t6dvlkpKrwg1OEWqsai4xRCBCcagQ6o0JUwtjNDIkh8gtLNkhJT8iM72FSH8soNpjehd2w7ot/12Fzt0XjcwcSfhiy76oIKFLMUBPh8SNsoRrIlSgZskRbXYWZd5MWLmw26SdJaMyXGffKWzfUX4WMnRx3a4i13Vui6gn9qmgZGjCetJDHllDaeWYmVNwoJQiisKmWZgVhpnXeVCtSxDTkpywFCySXKrxpB7pbN9RQw/Qu/rfaoIjQEBSnRdnHVtM6APP3y6LtBDPdyh6z0MzNNH9OXiHeIlgzTul+qHPjcH9KGBiXBh3IEnIztqtIfr4Uvjgd5t29V/xnA5DuXI2mBcmqSkwlRbgYWBhNaEpHEwOgXGuNCeLLs2lD48YZmeJdMyr4WXOttXtDamOIZl0aK68Zt9iKiJD6ju201uP2/fI3jDfvNdrP/hus4N9X38J64+uiSjUNh56SDmNcFVELCNE+s09YEpsWyNwqk6rC65YJMcAeojOttXxPXSVZucMcGGPcRxbk4qLQ13TkGZYm2E4xZCEFdRUqylMpVQUQQnlsVmaCkOsFk2Sap5xvRSZ/uKsFGE0UX+FPTpPnb3dXw47YwlkqYAzLj2BovoHFQqcMZ6qoI2zvFY0YXAWTKSguJ2CqhZ0vlyh0G7OKLJyuKNlvQZ3IdmmN4N5eZJ8IjgQiSrsNVcYaGhzLQqOkx5iPCEEhsWhsfplAHNUswJ0QhLHdHZvip4DAM2XLWP6EfvY99D1hJP2zINq6yHfRHTkMZ71MBxxYLC2jpIe0WIkC0tC+/5HnWWysyRxsRYkbzSK7hHfQGPw6b5fI96sYt+TnYh/YQIPI1iCsTQlAhsmIJjQY3AhrEKh2RScMpSu9ht+IzNsO9C0PI55IzJ1F7qbF8VRQEU3z8OsavbDp1FN+y72CPXBPRzDaT6k1l6OPB8CpC/EBXHu9YwRqTEUVvJiZVJersQSwrlP9CTZI65Z03trHXeQF/p7F8XzXJMZS7b3Vhk/uuyUChtQ6IJAyqKhU8UG28cVipWkNIwqbxbGCGfA+5ZCzFra8bM85XO/pUhZIDwXTsM7fYlxTn4vv4NgNlwZA==', 'filetype': 'application/pdf', 'category': 'CompositeElement', 'element_id': '6284e3e471bead1d5377d56608d34505'}, page_content='FR201 Product Manual\\n\\nRevision History\\n\\nRevision History\\n\\nFirst release of FR201 manual\\n\\nUpdate Boot Jumper Pinout\\n\\n2.3 Motherboard Connect Update\\n\\nModiﬁed the \"Front I/O\" with “1x USB 3.2 10Gb/s” Instead of “2x USB 3.2 10Gb/s’\\n\\nUpdated to include new isolated PoE module\\n\\nTable of Contents\\n\\n1 - System Overview\\n\\n1.1 System Introduction\\n\\n1.2- In-box Accessories\\n\\n1.3 - Product Speciﬁcations\\n\\n1.4 - Exterior Features and Dimensions\\n\\n1.4.1 - Top I/O\\n\\n1.4.2 - Bottom I/O')"
      ]
     },
     "execution_count": 12,
     "metadata": {},
     "output_type": "execute_result"
    }
   ],
   "source": [
    "# Parse pdfs, creating a Document object for each section within each pdf\n",
    "# this can take a while, depending on the number and size of the documents. \n",
    "from langchain_unstructured import UnstructuredLoader\n",
    "from langchain_community.vectorstores.utils import filter_complex_metadata\n",
    "from glob import glob\n",
    "\n",
    "docs = []\n",
    "\n",
    "pdf_filepaths = glob('product_manuals/*.pdf')\n",
    "\n",
    "for file in pdf_filepaths:\n",
    "    loader = UnstructuredLoader(\n",
    "        file_path=file,\n",
    "        strategy=\"fast\",\n",
    "        chunking_strategy='by_title'\n",
    "    )\n",
    "\n",
    "    for doc in loader.lazy_load():\n",
    "        docs.append(doc)\n",
    "    \n",
    "filter_complex_metadata(docs)\n",
    "\n",
    "print(f'Total number of documents: {len(docs)}')\n",
    "docs[0]"
   ]
  },
  {
   "cell_type": "code",
   "execution_count": 13,
   "id": "4b0cb4b8-c9a1-48b6-b0b7-0a4662c009bd",
   "metadata": {},
   "outputs": [
    {
     "name": "stderr",
     "output_type": "stream",
     "text": [
      "INFO: HTTP Request: POST http://127.0.0.1:11434/api/embed \"HTTP/1.1 200 OK\"\n"
     ]
    }
   ],
   "source": [
    "from langchain_chroma import Chroma\n",
    "from langchain_ollama import OllamaEmbeddings\n",
    "\n",
    "# Use a local embedding model to store the embddings of all context documents in a vector database\n",
    "local_embeddings = OllamaEmbeddings(model=\"nomic-embed-text\")\n",
    "\n",
    "vectorstore = Chroma.from_documents(docs, local_embeddings)\n",
    "\n",
    "# formatting function used by the Llama model to \"read\" the context documents.\n",
    "def format_docs(docs):\n",
    "    return \"\\n\\n\".join(f'context source: {doc.metadata[\"filename\"]}\\nContent:\\n{doc.page_content}' for doc in docs)"
   ]
  },
  {
   "cell_type": "code",
   "execution_count": 14,
   "id": "d8f46cfd-bf38-47f4-87e9-65b4e9b9d86d",
   "metadata": {},
   "outputs": [
    {
     "name": "stderr",
     "output_type": "stream",
     "text": [
      "INFO: HTTP Request: POST http://127.0.0.1:11434/api/embed \"HTTP/1.1 200 OK\"\n"
     ]
    },
    {
     "data": {
      "text/plain": [
       "'2.9 - DisplayPort\\n\\nThere are two full-size DisplayPorts on the Karbon 800 series. Both ports support DP 1.4 at 4K 60Hz\\n\\nand support MST (Multi Stream Topology). An MST hub can be used to support up to four\\n\\nindependent displays. Please refer to Intel documentation for additional Alder Lake-S display output\\n\\nspecifications: https://ark.intel.com/\\n\\n22'"
      ]
     },
     "execution_count": 14,
     "metadata": {},
     "output_type": "execute_result"
    }
   ],
   "source": [
    "# Testing the vector store\n",
    "query = \"What are the displayport details for the k800 series?\"\n",
    "\n",
    "docs = vectorstore.similarity_search(query)\n",
    "# Retrieves the most semantically similar context document to the above query: \n",
    "docs[0].page_content"
   ]
  },
  {
   "cell_type": "code",
   "execution_count": 15,
   "id": "0e6450c7-4ea5-4f13-aa12-bea12ed9e398",
   "metadata": {},
   "outputs": [],
   "source": [
    "from langchain_ollama import ChatOllama\n",
    "\n",
    "# Load Llama3.1 model\n",
    "\n",
    "model = ChatOllama(\n",
    "    model='llama3.1:8b'\n",
    ")\n"
   ]
  },
  {
   "cell_type": "code",
   "execution_count": 16,
   "id": "5f8b2462-a097-45f4-8c3d-b4d00611b59e",
   "metadata": {},
   "outputs": [],
   "source": [
    "# Run LLM with context retrieval\n",
    "from langchain_core.prompts import ChatPromptTemplate\n",
    "from langchain_core.runnables import RunnablePassthrough\n",
    "\n",
    "# Define the chain\n",
    "\n",
    "RAG_TEMPLATE = \"\"\"\n",
    "You are an assistant for tech support question-answering tasks. Use the following pieces of retrieved context to answer the question. If you don't know the answer, just say that you don't know. Use three sentences maximum and keep the answer concise.\n",
    "\n",
    "<context>\n",
    "{context}\n",
    "</context>\n",
    "\n",
    "Answer the following question:\n",
    "\n",
    "{question}\"\"\"\n",
    "\n",
    "rag_prompt = ChatPromptTemplate.from_template(RAG_TEMPLATE)\n",
    "\n",
    "retriever = vectorstore.as_retriever()\n",
    "\n",
    "# The chain finds the most relevent context document using the vectorstore retriever, formats it,\n",
    "# and inputs it into the template along with the user quesion. Then the model executues on the entire prompt, \n",
    "# and returns a response object. \n",
    "\n",
    "chain = (\n",
    "    {\"context\": retriever | format_docs, \"question\": RunnablePassthrough()}\n",
    "    | rag_prompt\n",
    "    | model\n",
    ")"
   ]
  },
  {
   "cell_type": "code",
   "execution_count": 21,
   "id": "cc0158e1-2117-4f45-a64e-d45def5d1445",
   "metadata": {},
   "outputs": [
    {
     "name": "stderr",
     "output_type": "stream",
     "text": [
      "INFO: HTTP Request: POST http://127.0.0.1:11434/api/embed \"HTTP/1.1 200 OK\"\n",
      "INFO: HTTP Request: POST http://127.0.0.1:11434/api/chat \"HTTP/1.1 200 OK\"\n"
     ]
    }
   ],
   "source": [
    "question = \"What are the details for the K800 series of computers' CE compliance?\"\n",
    "response = chain.invoke(question)"
   ]
  },
  {
   "cell_type": "code",
   "execution_count": 18,
   "id": "aa5d8044-33f7-47dc-828f-07f245443156",
   "metadata": {},
   "outputs": [
    {
     "name": "stdout",
     "output_type": "stream",
     "text": [
      "The K800 computer system was evaluated for medical, IT equipment, automotive, maritime, and railway EMC standards as a class A device. It complies with the relevant IT equipment directives for the CE mark. Modification of the system may void the certifications. Testing includes EN 55032, EN 55035, EN 60601-1, EN 62368-1, EN 60950-1, and others.\n"
     ]
    }
   ],
   "source": [
    "print(response.content)"
   ]
  },
  {
   "cell_type": "code",
   "execution_count": 22,
   "id": "5584460c-16c5-486b-b303-f974f059127b",
   "metadata": {},
   "outputs": [
    {
     "name": "stdout",
     "output_type": "stream",
     "text": [
      "3.7736804\n"
     ]
    }
   ],
   "source": [
    "# Total run duration in seconds\n",
    "print(response.response_metadata['total_duration'] /  1e9)"
   ]
  },
  {
   "cell_type": "code",
   "execution_count": 20,
   "id": "16471818-314e-44c9-b5e1-1d2764e6d8a0",
   "metadata": {},
   "outputs": [
    {
     "data": {
      "text/plain": [
       "AIMessage(content='The K800 computer system was evaluated for medical, IT equipment, automotive, maritime, and railway EMC standards as a class A device. It complies with the relevant IT equipment directives for the CE mark. Modification of the system may void the certifications. Testing includes EN 55032, EN 55035, EN 60601-1, EN 62368-1, EN 60950-1, and others.', additional_kwargs={}, response_metadata={'model': 'llama3.1:8b', 'created_at': '2024-12-05T21:48:27.7233821Z', 'message': {'role': 'assistant', 'content': ''}, 'done_reason': 'stop', 'done': True, 'total_duration': 1829200800, 'load_duration': 11295300, 'prompt_eval_count': 656, 'prompt_eval_duration': 323000000, 'eval_count': 87, 'eval_duration': 1493000000}, id='run-ae65f6d7-8075-41b5-8d16-e8043cfa1d03-0', usage_metadata={'input_tokens': 656, 'output_tokens': 87, 'total_tokens': 743})"
      ]
     },
     "execution_count": 20,
     "metadata": {},
     "output_type": "execute_result"
    }
   ],
   "source": [
    "response"
   ]
  }
 ],
 "metadata": {
  "kernelspec": {
   "display_name": "Python 3 (ipykernel)",
   "language": "python",
   "name": "python3"
  },
  "language_info": {
   "codemirror_mode": {
    "name": "ipython",
    "version": 3
   },
   "file_extension": ".py",
   "mimetype": "text/x-python",
   "name": "python",
   "nbconvert_exporter": "python",
   "pygments_lexer": "ipython3",
   "version": "3.10.9"
  }
 },
 "nbformat": 4,
 "nbformat_minor": 5
}
